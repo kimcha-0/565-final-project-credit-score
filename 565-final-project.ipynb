{
 "cells": [
  {
   "cell_type": "code",
   "execution_count": null,
   "metadata": {},
   "outputs": [],
   "source": [
    "import pandas as pd\n",
    "pd.set_option(\"display.max_columns\", 75)"
   ]
  },
  {
   "cell_type": "code",
   "execution_count": null,
   "metadata": {},
   "outputs": [],
   "source": [
    "nbaData = \"NBAdata.csv\"\n",
    "# drop unwanted values\n",
    "temp = pd.read_csv(nbaData)\n",
    "data = temp.copy()\n",
    "data = data.drop('#', axis=1)\n",
    "data = data.drop('blank2', axis=1)\n",
    "data = data.drop('blan1', axis=1)\n",
    "\n",
    "# rename columns\n",
    "data.rename(columns={\"Season Start\": \"Season\"}, inplace=True)\n",
    "data.rename(columns={\"Tm\": \"Team\"}, inplace=True)\n",
    "data.rename(columns={\"Player Name\": \"Name\"}, inplace=True)\n",
    "data.rename(columns={\"Player Salary in $\": \"Salary\"}, inplace=True)\n",
    "data.rename(columns={\"G\": \"GP\"}, inplace=True)\n",
    "\n",
    "# we can assign the positions numberical values\n",
    "positions = {'PG': 1, 'SG': 2, 'SF': 3, 'PF': 4, 'C': 5}\n",
    "data['Pos'] = data['Pos'].map(positions)\n",
    "\n",
    "# ratio of Games Started to Games Played\n",
    "data[\"GS/GP\"] = data[\"GS\"] / data[\"GP\"]\n",
    "\n",
    "# last row is null\n",
    "data = data[:-1]"
   ]
  },
  {
   "cell_type": "code",
   "execution_count": null,
   "metadata": {},
   "outputs": [],
   "source": [
    "# since the stats in our data are cumulative, we must convert them to per-game data\n",
    "# stats should be a on a per-game basis instead of totals to eliminate the effect of games played\n",
    "data[\"MPG\"] = data[\"MP\"]/data[\"GP\"]\n",
    "data[\"ORPG\"] = data[\"ORB\"]/data[\"GP\"]\n",
    "data[\"DRPG\"] = data[\"DRB\"]/data[\"GP\"]\n",
    "data[\"RPG\"] = data[\"TRB\"]/data[\"GP\"]\n",
    "data[\"APG\"] = data[\"AST\"]/data[\"GP\"]\n",
    "data[\"SPG\"] = data[\"STL\"]/data[\"GP\"]\n",
    "data[\"BPG\"] = data[\"BLK\"]/data[\"GP\"]\n",
    "data[\"TPG\"] = data[\"TOV\"]/data[\"GP\"]\n",
    "data[\"PFPG\"] = data[\"PF\"]/data[\"GP\"]\n",
    "data[\"PPG\"] = data[\"PTS\"]/data[\"GP\"]\n",
    "data[\"FGPG\"] = data[\"FG\"]/data[\"GP\"]\n",
    "data[\"FGAPG\"] = data[\"FGA\"]/data[\"GP\"]\n",
    "data[\"3PPG\"] = data[\"3P\"]/data[\"GP\"]\n",
    "data[\"3PAPG\"] = data[\"3PA\"]/data[\"GP\"]\n",
    "data[\"2PPG\"] = data[\"2P\"]/data[\"GP\"]\n",
    "data[\"2PAPG\"] = data[\"2PA\"]/data[\"GP\"]\n",
    "data[\"FTPG\"] = data[\"FT\"]/data[\"GP\"]\n",
    "data[\"FTAPG\"] = data[\"FTA\"]/data[\"GP\"]\n",
    "\n",
    "#drop all total columns\n",
    "drop_column = ['MP', 'ORB', 'DRB', 'TRB', 'AST', 'STL', 'BLK', 'TOV',\n",
    "               'PF', 'PTS', 'FG', 'FGA', '3P', '3PA', '2P', '2PA', 'FT', 'FTA']\n",
    "data.drop(drop_column, axis=1, inplace=True)"
   ]
  }
 ],
 "metadata": {
  "kernelspec": {
   "display_name": "Python 3.9.1 64-bit",
   "language": "python",
   "name": "python3"
  },
  "language_info": {
   "name": "python",
   "version": "3.9.1"
  },
  "orig_nbformat": 4,
  "vscode": {
   "interpreter": {
    "hash": "aee8b7b246df8f9039afb4144a1f6fd8d2ca17a180786b69acc140d282b71a49"
   }
  }
 },
 "nbformat": 4,
 "nbformat_minor": 2
}
