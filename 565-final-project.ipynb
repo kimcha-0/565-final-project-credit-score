{
 "cells": [
  {
   "cell_type": "code",
   "execution_count": 12,
   "metadata": {},
   "outputs": [],
   "source": [
    "import pandas as pd\n",
    "pd.set_option(\"display.max_columns\", 75)"
   ]
  },
  {
   "cell_type": "markdown",
   "metadata": {},
   "source": [
    "## Cleaning Data"
   ]
  },
  {
   "cell_type": "code",
   "execution_count": 13,
   "metadata": {},
   "outputs": [],
   "source": [
    "nbaData = \"NBAdata.csv\"\n",
    "# drop unwanted values\n",
    "temp = pd.read_csv(nbaData)\n",
    "data = temp.copy()\n",
    "data = data.drop('#', axis=1)\n",
    "data = data.drop('blank2', axis=1)\n",
    "data = data.drop('blanl', axis=1)\n",
    "\n",
    "# rename columns\n",
    "data.rename(columns={\"Season Start\": \"Season\"}, inplace=True)\n",
    "data.rename(columns={\"Tm\": \"Team\"}, inplace=True)\n",
    "data.rename(columns={\"Player Name\": \"Name\"}, inplace=True)\n",
    "data.rename(columns={\"Player Salary in $\": \"Salary\"}, inplace=True)\n",
    "data.rename(columns={\"G\": \"GP\"}, inplace=True)\n",
    "\n",
    "# we can assign the positions numberical values\n",
    "positions = {'PG': 1, 'SG': 2, 'SF': 3, 'PF': 4, 'C': 5}\n",
    "data['Pos'] = data['Pos'].map(positions)\n",
    "\n",
    "# ratio of Games Started to Games Played\n",
    "data[\"GS/GP\"] = data[\"GS\"] / data[\"GP\"]\n",
    "\n",
    "# last row is null\n",
    "data = data[:-1]"
   ]
  },
  {
   "cell_type": "code",
   "execution_count": 14,
   "metadata": {},
   "outputs": [],
   "source": [
    "# since the stats in our data are cumulative, we must convert them to per-game data\n",
    "# stats should be a on a per-game basis instead of totals to eliminate the effect of games played\n",
    "data[\"MPG\"] = data[\"MP\"]/data[\"GP\"]\n",
    "data[\"ORPG\"] = data[\"ORB\"]/data[\"GP\"]\n",
    "data[\"DRPG\"] = data[\"DRB\"]/data[\"GP\"]\n",
    "data[\"RPG\"] = data[\"TRB\"]/data[\"GP\"]\n",
    "data[\"APG\"] = data[\"AST\"]/data[\"GP\"]\n",
    "data[\"SPG\"] = data[\"STL\"]/data[\"GP\"]\n",
    "data[\"BPG\"] = data[\"BLK\"]/data[\"GP\"]\n",
    "data[\"TPG\"] = data[\"TOV\"]/data[\"GP\"]\n",
    "data[\"PFPG\"] = data[\"PF\"]/data[\"GP\"]\n",
    "data[\"PPG\"] = data[\"PTS\"]/data[\"GP\"]\n",
    "data[\"FGPG\"] = data[\"FG\"]/data[\"GP\"]\n",
    "data[\"FGAPG\"] = data[\"FGA\"]/data[\"GP\"]\n",
    "data[\"3PPG\"] = data[\"3P\"]/data[\"GP\"]\n",
    "data[\"3PAPG\"] = data[\"3PA\"]/data[\"GP\"]\n",
    "data[\"2PPG\"] = data[\"2P\"]/data[\"GP\"]\n",
    "data[\"2PAPG\"] = data[\"2PA\"]/data[\"GP\"]\n",
    "data[\"FTPG\"] = data[\"FT\"]/data[\"GP\"]\n",
    "data[\"FTAPG\"] = data[\"FTA\"]/data[\"GP\"]\n",
    "\n",
    "#drop all total columns\n",
    "drop_column = ['MP', 'ORB', 'DRB', 'TRB', 'AST', 'STL', 'BLK', 'TOV',\n",
    "               'PF', 'PTS', 'FG', 'FGA', '3P', '3PA', '2P', '2PA', 'FT', 'FTA']\n",
    "data.drop(drop_column, axis=1, inplace=True)"
   ]
  },
  {
   "cell_type": "code",
   "execution_count": 15,
   "metadata": {},
   "outputs": [],
   "source": [
    "# splitting stats into 3 categories for later\n",
    "adv_data = ['% of Cap', 'PER', 'TS%', '3PAr', 'FTr', 'ORB%', 'DRB%', 'TRB%', 'AST%', 'STL%',\n",
    "            'BLK%', 'TOV%', 'USG%', 'OWS', 'DWS', 'WS', 'WS/48', 'OBPM', 'DBPM', 'BPM', 'VORP']\n",
    "reg_data = ['% of Cap', 'ORPG', 'DRPG', 'RPG', 'APG', 'SPG', 'BPG', 'TPG', 'PFPG',\n",
    "           'PPG', 'FGPG', 'FGAPG', '3PPG', '3PAPG', '2PPG', '2PAPG', 'FTPG', 'FTAPG']\n",
    "data['Salary'] = data.Salary.astype(float)\n",
    "\n",
    "data['Name'] = data['Name'].map(lambda x: x.rstrip('*'))\n"
   ]
  },
  {
   "cell_type": "code",
   "execution_count": 16,
   "metadata": {},
   "outputs": [],
   "source": [
    "# handling invalid values and special cases\n",
    "data = data[-data[\"Team\"].str.contains(\"TOT\", na=False)]\n",
    "\n",
    "# get players who have played at least 20 games\n",
    "data = data[data['GP']>=20]\n",
    "\n",
    "# missing salary values are a no-go\n",
    "data = data.dropna(subset=['Salary'])\n",
    "\n",
    "null_value = ['TS%', '3PAr', 'FTr', 'TOV%', 'FG%', '3P%', '2P%', 'eFG%', 'FT%']\n",
    "for i in null_value:\n",
    "    data[i].fillna(0, inplace=True)\n"
   ]
  },
  {
   "cell_type": "code",
   "execution_count": 17,
   "metadata": {},
   "outputs": [
    {
     "name": "stdout",
     "output_type": "stream",
     "text": [
      "38\n",
      "30\n"
     ]
    }
   ],
   "source": [
    "print(len(data['Team'].unique()))\n",
    "# are there 38 teams in the NBA?\n",
    "# we must handle the name changes of franchises since 1995 such as the Charlotte Hornets, New Orleans Pelicans, and others\n",
    "data[\"Team\"].replace(\"CHH\", \"NOP\", inplace=True)\n",
    "data[\"Team\"].replace(\"NOH\", \"NOP\", inplace=True)\n",
    "data[\"Team\"].replace(\"NOK\", \"NOP\", inplace=True)\n",
    "data[\"Team\"].replace(\"NJN\", \"BRK\", inplace=True)\n",
    "data[\"Team\"].replace(\"WSB\", \"WAS\", inplace=True)\n",
    "data[\"Team\"].replace(\"SEA\", \"OKC\", inplace=True)\n",
    "data[\"Team\"].replace(\"VAN\", \"MEM\", inplace=True)\n",
    "data[\"Team\"].replace(\"CHA\", \"CHO\", inplace=True)\n",
    "\n",
    "# we now have the correct number of teams represented in the dataset\n",
    "print(len(data['Team'].unique()))\n"
   ]
  }
 ],
 "metadata": {
  "kernelspec": {
   "display_name": "Python 3.9.1 64-bit",
   "language": "python",
   "name": "python3"
  },
  "language_info": {
   "codemirror_mode": {
    "name": "ipython",
    "version": 3
   },
   "file_extension": ".py",
   "mimetype": "text/x-python",
   "name": "python",
   "nbconvert_exporter": "python",
   "pygments_lexer": "ipython3",
   "version": "3.9.1"
  },
  "orig_nbformat": 4,
  "vscode": {
   "interpreter": {
    "hash": "aee8b7b246df8f9039afb4144a1f6fd8d2ca17a180786b69acc140d282b71a49"
   }
  }
 },
 "nbformat": 4,
 "nbformat_minor": 2
}
